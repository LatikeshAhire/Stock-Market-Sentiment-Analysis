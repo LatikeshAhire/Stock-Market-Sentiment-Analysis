{
 "cells": [
  {
   "cell_type": "code",
   "execution_count": 1,
   "source": [
    "# dataset: https://www.kaggle.com/aaron7sun/stocknews"
   ],
   "outputs": [],
   "metadata": {}
  },
  {
   "cell_type": "code",
   "execution_count": 2,
   "source": [
    "import pandas as pd\n",
    "import numpy as np\n",
    "import matplotlib.pyplot as plt\n",
    "import seaborn as sns"
   ],
   "outputs": [],
   "metadata": {}
  },
  {
   "cell_type": "code",
   "execution_count": 3,
   "source": [
    "df=pd.read_csv('Combined_News_DJIA.csv',encoding=\"ISO-8859-1\")"
   ],
   "outputs": [],
   "metadata": {}
  },
  {
   "cell_type": "code",
   "execution_count": 7,
   "source": [
    "for i in range(2,27):\n",
    "    print(df.iloc[1][i])"
   ],
   "outputs": [
    {
     "output_type": "stream",
     "name": "stdout",
     "text": [
      "b'Why wont America and Nato help us? If they wont help us now, why did we help them in Iraq?'\n",
      "b'Bush puts foot down on Georgian conflict'\n",
      "b\"Jewish Georgian minister: Thanks to Israeli training, we're fending off Russia \"\n",
      "b'Georgian army flees in disarray as Russians advance - Gori abandoned to Russia without a shot fired'\n",
      "b\"Olympic opening ceremony fireworks 'faked'\"\n",
      "b'What were the Mossad with fraudulent New Zealand Passports doing in Iraq?'\n",
      "b'Russia angered by Israeli military sale to Georgia'\n",
      "b'An American citizen living in S.Ossetia blames U.S. and Georgian leaders for the genocide of innocent people'\n",
      "b'Welcome To World War IV! Now In High Definition!'\n",
      "b\"Georgia's move, a mistake of monumental proportions \"\n",
      "b'Russia presses deeper into Georgia; U.S. says regime change is goal'\n",
      "b'Abhinav Bindra wins first ever Individual Olympic Gold Medal for India'\n",
      "b' U.S. ship heads for Arctic to define territory'\n",
      "b'Drivers in a Jerusalem taxi station threaten to quit rather than work for their new boss - an Arab'\n",
      "b'The French Team is Stunned by Phelps and the 4x100m Relay Team'\n",
      "b'Israel and the US behind the Georgian aggression?'\n",
      "b'\"Do not believe TV, neither Russian nor Georgian. There are much more victims\"'\n",
      "b'Riots are still going on in Montreal (Canada) because police murdered a boy on Saturday.'\n",
      "b'China to overtake US as largest manufacturer'\n",
      "b'War in South Ossetia [PICS]'\n",
      "b'Israeli Physicians Group Condemns State Torture'\n",
      "b' Russia has just beaten the United States over the head with Peak Oil'\n",
      "b'Perhaps *the* question about the Georgia - Russia conflict '\n",
      "b'Russia is so much better at war'\n",
      "b\"So this is what it's come to: trading sex for food.\"\n"
     ]
    }
   ],
   "metadata": {}
  },
  {
   "cell_type": "code",
   "execution_count": 33,
   "source": [
    "df.head()"
   ],
   "outputs": [
    {
     "output_type": "execute_result",
     "data": {
      "text/html": [
       "<div>\n",
       "<style scoped>\n",
       "    .dataframe tbody tr th:only-of-type {\n",
       "        vertical-align: middle;\n",
       "    }\n",
       "\n",
       "    .dataframe tbody tr th {\n",
       "        vertical-align: top;\n",
       "    }\n",
       "\n",
       "    .dataframe thead th {\n",
       "        text-align: right;\n",
       "    }\n",
       "</style>\n",
       "<table border=\"1\" class=\"dataframe\">\n",
       "  <thead>\n",
       "    <tr style=\"text-align: right;\">\n",
       "      <th></th>\n",
       "      <th>Date</th>\n",
       "      <th>Label</th>\n",
       "      <th>Top1</th>\n",
       "      <th>Top2</th>\n",
       "      <th>Top3</th>\n",
       "      <th>Top4</th>\n",
       "      <th>Top5</th>\n",
       "      <th>Top6</th>\n",
       "      <th>Top7</th>\n",
       "      <th>Top8</th>\n",
       "      <th>...</th>\n",
       "      <th>Top16</th>\n",
       "      <th>Top17</th>\n",
       "      <th>Top18</th>\n",
       "      <th>Top19</th>\n",
       "      <th>Top20</th>\n",
       "      <th>Top21</th>\n",
       "      <th>Top22</th>\n",
       "      <th>Top23</th>\n",
       "      <th>Top24</th>\n",
       "      <th>Top25</th>\n",
       "    </tr>\n",
       "  </thead>\n",
       "  <tbody>\n",
       "    <tr>\n",
       "      <th>0</th>\n",
       "      <td>2008-08-08</td>\n",
       "      <td>0</td>\n",
       "      <td>b\"Georgia 'downs two Russian warplanes' as cou...</td>\n",
       "      <td>b'BREAKING: Musharraf to be impeached.'</td>\n",
       "      <td>b'Russia Today: Columns of troops roll into So...</td>\n",
       "      <td>b'Russian tanks are moving towards the capital...</td>\n",
       "      <td>b\"Afghan children raped with 'impunity,' U.N. ...</td>\n",
       "      <td>b'150 Russian tanks have entered South Ossetia...</td>\n",
       "      <td>b\"Breaking: Georgia invades South Ossetia, Rus...</td>\n",
       "      <td>b\"The 'enemy combatent' trials are nothing but...</td>\n",
       "      <td>...</td>\n",
       "      <td>b'Georgia Invades South Ossetia - if Russia ge...</td>\n",
       "      <td>b'Al-Qaeda Faces Islamist Backlash'</td>\n",
       "      <td>b'Condoleezza Rice: \"The US would not act to p...</td>\n",
       "      <td>b'This is a busy day:  The European Union has ...</td>\n",
       "      <td>b\"Georgia will withdraw 1,000 soldiers from Ir...</td>\n",
       "      <td>b'Why the Pentagon Thinks Attacking Iran is a ...</td>\n",
       "      <td>b'Caucasus in crisis: Georgia invades South Os...</td>\n",
       "      <td>b'Indian shoe manufactory  - And again in a se...</td>\n",
       "      <td>b'Visitors Suffering from Mental Illnesses Ban...</td>\n",
       "      <td>b\"No Help for Mexico's Kidnapping Surge\"</td>\n",
       "    </tr>\n",
       "    <tr>\n",
       "      <th>1</th>\n",
       "      <td>2008-08-11</td>\n",
       "      <td>1</td>\n",
       "      <td>b'Why wont America and Nato help us? If they w...</td>\n",
       "      <td>b'Bush puts foot down on Georgian conflict'</td>\n",
       "      <td>b\"Jewish Georgian minister: Thanks to Israeli ...</td>\n",
       "      <td>b'Georgian army flees in disarray as Russians ...</td>\n",
       "      <td>b\"Olympic opening ceremony fireworks 'faked'\"</td>\n",
       "      <td>b'What were the Mossad with fraudulent New Zea...</td>\n",
       "      <td>b'Russia angered by Israeli military sale to G...</td>\n",
       "      <td>b'An American citizen living in S.Ossetia blam...</td>\n",
       "      <td>...</td>\n",
       "      <td>b'Israel and the US behind the Georgian aggres...</td>\n",
       "      <td>b'\"Do not believe TV, neither Russian nor Geor...</td>\n",
       "      <td>b'Riots are still going on in Montreal (Canada...</td>\n",
       "      <td>b'China to overtake US as largest manufacturer'</td>\n",
       "      <td>b'War in South Ossetia [PICS]'</td>\n",
       "      <td>b'Israeli Physicians Group Condemns State Tort...</td>\n",
       "      <td>b' Russia has just beaten the United States ov...</td>\n",
       "      <td>b'Perhaps *the* question about the Georgia - R...</td>\n",
       "      <td>b'Russia is so much better at war'</td>\n",
       "      <td>b\"So this is what it's come to: trading sex fo...</td>\n",
       "    </tr>\n",
       "    <tr>\n",
       "      <th>2</th>\n",
       "      <td>2008-08-12</td>\n",
       "      <td>0</td>\n",
       "      <td>b'Remember that adorable 9-year-old who sang a...</td>\n",
       "      <td>b\"Russia 'ends Georgia operation'\"</td>\n",
       "      <td>b'\"If we had no sexual harassment we would hav...</td>\n",
       "      <td>b\"Al-Qa'eda is losing support in Iraq because ...</td>\n",
       "      <td>b'Ceasefire in Georgia: Putin Outmaneuvers the...</td>\n",
       "      <td>b'Why Microsoft and Intel tried to kill the XO...</td>\n",
       "      <td>b'Stratfor: The Russo-Georgian War and the Bal...</td>\n",
       "      <td>b\"I'm Trying to Get a Sense of This Whole Geor...</td>\n",
       "      <td>...</td>\n",
       "      <td>b'U.S. troops still in Georgia (did you know t...</td>\n",
       "      <td>b'Why Russias response to Georgia was right'</td>\n",
       "      <td>b'Gorbachev accuses U.S. of making a \"serious ...</td>\n",
       "      <td>b'Russia, Georgia, and NATO: Cold War Two'</td>\n",
       "      <td>b'Remember that adorable 62-year-old who led y...</td>\n",
       "      <td>b'War in Georgia: The Israeli connection'</td>\n",
       "      <td>b'All signs point to the US encouraging Georgi...</td>\n",
       "      <td>b'Christopher King argues that the US and NATO...</td>\n",
       "      <td>b'America: The New Mexico?'</td>\n",
       "      <td>b\"BBC NEWS | Asia-Pacific | Extinction 'by man...</td>\n",
       "    </tr>\n",
       "    <tr>\n",
       "      <th>3</th>\n",
       "      <td>2008-08-13</td>\n",
       "      <td>0</td>\n",
       "      <td>b' U.S. refuses Israel weapons to attack Iran:...</td>\n",
       "      <td>b\"When the president ordered to attack Tskhinv...</td>\n",
       "      <td>b' Israel clears troops who killed Reuters cam...</td>\n",
       "      <td>b'Britain\\'s policy of being tough on drugs is...</td>\n",
       "      <td>b'Body of 14 year old found in trunk; Latest (...</td>\n",
       "      <td>b'China has moved 10 *million* quake survivors...</td>\n",
       "      <td>b\"Bush announces Operation Get All Up In Russi...</td>\n",
       "      <td>b'Russian forces sink Georgian ships '</td>\n",
       "      <td>...</td>\n",
       "      <td>b'Elephants extinct by 2020?'</td>\n",
       "      <td>b'US humanitarian missions soon in Georgia - i...</td>\n",
       "      <td>b\"Georgia's DDOS came from US sources\"</td>\n",
       "      <td>b'Russian convoy heads into Georgia, violating...</td>\n",
       "      <td>b'Israeli defence minister: US against strike ...</td>\n",
       "      <td>b'Gorbachev: We Had No Choice'</td>\n",
       "      <td>b'Witness: Russian forces head towards Tbilisi...</td>\n",
       "      <td>b' Quarter of Russians blame U.S. for conflict...</td>\n",
       "      <td>b'Georgian president  says US military will ta...</td>\n",
       "      <td>b'2006: Nobel laureate Aleksander Solzhenitsyn...</td>\n",
       "    </tr>\n",
       "    <tr>\n",
       "      <th>4</th>\n",
       "      <td>2008-08-14</td>\n",
       "      <td>1</td>\n",
       "      <td>b'All the experts admit that we should legalis...</td>\n",
       "      <td>b'War in South Osetia - 89 pictures made by a ...</td>\n",
       "      <td>b'Swedish wrestler Ara Abrahamian throws away ...</td>\n",
       "      <td>b'Russia exaggerated the death toll in South O...</td>\n",
       "      <td>b'Missile That Killed 9 Inside Pakistan May Ha...</td>\n",
       "      <td>b\"Rushdie Condemns Random House's Refusal to P...</td>\n",
       "      <td>b'Poland and US agree to missle defense deal. ...</td>\n",
       "      <td>b'Will the Russians conquer Tblisi? Bet on it,...</td>\n",
       "      <td>...</td>\n",
       "      <td>b'Bank analyst forecast Georgian crisis 2 days...</td>\n",
       "      <td>b\"Georgia confict could set back Russia's US r...</td>\n",
       "      <td>b'War in the Caucasus is as much the product o...</td>\n",
       "      <td>b'\"Non-media\" photos of South Ossetia/Georgia ...</td>\n",
       "      <td>b'Georgian TV reporter shot by Russian sniper ...</td>\n",
       "      <td>b'Saudi Arabia: Mother moves to block child ma...</td>\n",
       "      <td>b'Taliban wages war on humanitarian aid workers'</td>\n",
       "      <td>b'Russia: World  \"can forget about\" Georgia\\'s...</td>\n",
       "      <td>b'Darfur rebels accuse Sudan of mounting major...</td>\n",
       "      <td>b'Philippines : Peace Advocate say Muslims nee...</td>\n",
       "    </tr>\n",
       "  </tbody>\n",
       "</table>\n",
       "<p>5 rows × 27 columns</p>\n",
       "</div>"
      ],
      "text/plain": [
       "         Date  Label                                               Top1  \\\n",
       "0  2008-08-08      0  b\"Georgia 'downs two Russian warplanes' as cou...   \n",
       "1  2008-08-11      1  b'Why wont America and Nato help us? If they w...   \n",
       "2  2008-08-12      0  b'Remember that adorable 9-year-old who sang a...   \n",
       "3  2008-08-13      0  b' U.S. refuses Israel weapons to attack Iran:...   \n",
       "4  2008-08-14      1  b'All the experts admit that we should legalis...   \n",
       "\n",
       "                                                Top2  \\\n",
       "0            b'BREAKING: Musharraf to be impeached.'   \n",
       "1        b'Bush puts foot down on Georgian conflict'   \n",
       "2                 b\"Russia 'ends Georgia operation'\"   \n",
       "3  b\"When the president ordered to attack Tskhinv...   \n",
       "4  b'War in South Osetia - 89 pictures made by a ...   \n",
       "\n",
       "                                                Top3  \\\n",
       "0  b'Russia Today: Columns of troops roll into So...   \n",
       "1  b\"Jewish Georgian minister: Thanks to Israeli ...   \n",
       "2  b'\"If we had no sexual harassment we would hav...   \n",
       "3  b' Israel clears troops who killed Reuters cam...   \n",
       "4  b'Swedish wrestler Ara Abrahamian throws away ...   \n",
       "\n",
       "                                                Top4  \\\n",
       "0  b'Russian tanks are moving towards the capital...   \n",
       "1  b'Georgian army flees in disarray as Russians ...   \n",
       "2  b\"Al-Qa'eda is losing support in Iraq because ...   \n",
       "3  b'Britain\\'s policy of being tough on drugs is...   \n",
       "4  b'Russia exaggerated the death toll in South O...   \n",
       "\n",
       "                                                Top5  \\\n",
       "0  b\"Afghan children raped with 'impunity,' U.N. ...   \n",
       "1      b\"Olympic opening ceremony fireworks 'faked'\"   \n",
       "2  b'Ceasefire in Georgia: Putin Outmaneuvers the...   \n",
       "3  b'Body of 14 year old found in trunk; Latest (...   \n",
       "4  b'Missile That Killed 9 Inside Pakistan May Ha...   \n",
       "\n",
       "                                                Top6  \\\n",
       "0  b'150 Russian tanks have entered South Ossetia...   \n",
       "1  b'What were the Mossad with fraudulent New Zea...   \n",
       "2  b'Why Microsoft and Intel tried to kill the XO...   \n",
       "3  b'China has moved 10 *million* quake survivors...   \n",
       "4  b\"Rushdie Condemns Random House's Refusal to P...   \n",
       "\n",
       "                                                Top7  \\\n",
       "0  b\"Breaking: Georgia invades South Ossetia, Rus...   \n",
       "1  b'Russia angered by Israeli military sale to G...   \n",
       "2  b'Stratfor: The Russo-Georgian War and the Bal...   \n",
       "3  b\"Bush announces Operation Get All Up In Russi...   \n",
       "4  b'Poland and US agree to missle defense deal. ...   \n",
       "\n",
       "                                                Top8  ...  \\\n",
       "0  b\"The 'enemy combatent' trials are nothing but...  ...   \n",
       "1  b'An American citizen living in S.Ossetia blam...  ...   \n",
       "2  b\"I'm Trying to Get a Sense of This Whole Geor...  ...   \n",
       "3             b'Russian forces sink Georgian ships '  ...   \n",
       "4  b'Will the Russians conquer Tblisi? Bet on it,...  ...   \n",
       "\n",
       "                                               Top16  \\\n",
       "0  b'Georgia Invades South Ossetia - if Russia ge...   \n",
       "1  b'Israel and the US behind the Georgian aggres...   \n",
       "2  b'U.S. troops still in Georgia (did you know t...   \n",
       "3                      b'Elephants extinct by 2020?'   \n",
       "4  b'Bank analyst forecast Georgian crisis 2 days...   \n",
       "\n",
       "                                               Top17  \\\n",
       "0                b'Al-Qaeda Faces Islamist Backlash'   \n",
       "1  b'\"Do not believe TV, neither Russian nor Geor...   \n",
       "2       b'Why Russias response to Georgia was right'   \n",
       "3  b'US humanitarian missions soon in Georgia - i...   \n",
       "4  b\"Georgia confict could set back Russia's US r...   \n",
       "\n",
       "                                               Top18  \\\n",
       "0  b'Condoleezza Rice: \"The US would not act to p...   \n",
       "1  b'Riots are still going on in Montreal (Canada...   \n",
       "2  b'Gorbachev accuses U.S. of making a \"serious ...   \n",
       "3             b\"Georgia's DDOS came from US sources\"   \n",
       "4  b'War in the Caucasus is as much the product o...   \n",
       "\n",
       "                                               Top19  \\\n",
       "0  b'This is a busy day:  The European Union has ...   \n",
       "1    b'China to overtake US as largest manufacturer'   \n",
       "2         b'Russia, Georgia, and NATO: Cold War Two'   \n",
       "3  b'Russian convoy heads into Georgia, violating...   \n",
       "4  b'\"Non-media\" photos of South Ossetia/Georgia ...   \n",
       "\n",
       "                                               Top20  \\\n",
       "0  b\"Georgia will withdraw 1,000 soldiers from Ir...   \n",
       "1                     b'War in South Ossetia [PICS]'   \n",
       "2  b'Remember that adorable 62-year-old who led y...   \n",
       "3  b'Israeli defence minister: US against strike ...   \n",
       "4  b'Georgian TV reporter shot by Russian sniper ...   \n",
       "\n",
       "                                               Top21  \\\n",
       "0  b'Why the Pentagon Thinks Attacking Iran is a ...   \n",
       "1  b'Israeli Physicians Group Condemns State Tort...   \n",
       "2          b'War in Georgia: The Israeli connection'   \n",
       "3                     b'Gorbachev: We Had No Choice'   \n",
       "4  b'Saudi Arabia: Mother moves to block child ma...   \n",
       "\n",
       "                                               Top22  \\\n",
       "0  b'Caucasus in crisis: Georgia invades South Os...   \n",
       "1  b' Russia has just beaten the United States ov...   \n",
       "2  b'All signs point to the US encouraging Georgi...   \n",
       "3  b'Witness: Russian forces head towards Tbilisi...   \n",
       "4   b'Taliban wages war on humanitarian aid workers'   \n",
       "\n",
       "                                               Top23  \\\n",
       "0  b'Indian shoe manufactory  - And again in a se...   \n",
       "1  b'Perhaps *the* question about the Georgia - R...   \n",
       "2  b'Christopher King argues that the US and NATO...   \n",
       "3  b' Quarter of Russians blame U.S. for conflict...   \n",
       "4  b'Russia: World  \"can forget about\" Georgia\\'s...   \n",
       "\n",
       "                                               Top24  \\\n",
       "0  b'Visitors Suffering from Mental Illnesses Ban...   \n",
       "1                 b'Russia is so much better at war'   \n",
       "2                        b'America: The New Mexico?'   \n",
       "3  b'Georgian president  says US military will ta...   \n",
       "4  b'Darfur rebels accuse Sudan of mounting major...   \n",
       "\n",
       "                                               Top25  \n",
       "0           b\"No Help for Mexico's Kidnapping Surge\"  \n",
       "1  b\"So this is what it's come to: trading sex fo...  \n",
       "2  b\"BBC NEWS | Asia-Pacific | Extinction 'by man...  \n",
       "3  b'2006: Nobel laureate Aleksander Solzhenitsyn...  \n",
       "4  b'Philippines : Peace Advocate say Muslims nee...  \n",
       "\n",
       "[5 rows x 27 columns]"
      ]
     },
     "metadata": {},
     "execution_count": 33
    }
   ],
   "metadata": {}
  },
  {
   "cell_type": "code",
   "execution_count": 34,
   "source": [
    "df.isnull().sum()"
   ],
   "outputs": [
    {
     "output_type": "execute_result",
     "data": {
      "text/plain": [
       "Date     0\n",
       "Label    0\n",
       "Top1     0\n",
       "Top2     0\n",
       "Top3     0\n",
       "Top4     0\n",
       "Top5     0\n",
       "Top6     0\n",
       "Top7     0\n",
       "Top8     0\n",
       "Top9     0\n",
       "Top10    0\n",
       "Top11    0\n",
       "Top12    0\n",
       "Top13    0\n",
       "Top14    0\n",
       "Top15    0\n",
       "Top16    0\n",
       "Top17    0\n",
       "Top18    0\n",
       "Top19    0\n",
       "Top20    0\n",
       "Top21    0\n",
       "Top22    0\n",
       "Top23    1\n",
       "Top24    3\n",
       "Top25    3\n",
       "dtype: int64"
      ]
     },
     "metadata": {},
     "execution_count": 34
    }
   ],
   "metadata": {}
  },
  {
   "cell_type": "code",
   "execution_count": 35,
   "source": [
    "train = df[df['Date'] < '20150101']\n",
    "test = df[df['Date'] > '20141231']"
   ],
   "outputs": [],
   "metadata": {}
  },
  {
   "cell_type": "code",
   "execution_count": 36,
   "source": [
    "len(test)"
   ],
   "outputs": [
    {
     "output_type": "execute_result",
     "data": {
      "text/plain": [
       "378"
      ]
     },
     "metadata": {},
     "execution_count": 36
    }
   ],
   "metadata": {}
  },
  {
   "cell_type": "code",
   "execution_count": 37,
   "source": [
    "data=train.iloc[:,2:27]\n",
    "data.replace(\"[^a-zA-Z]\",\" \",regex=True,inplace=True)"
   ],
   "outputs": [],
   "metadata": {}
  },
  {
   "cell_type": "code",
   "execution_count": 38,
   "source": [
    "col=[(x) for x in range(25)]\n",
    "data.columns=col"
   ],
   "outputs": [],
   "metadata": {}
  },
  {
   "cell_type": "code",
   "execution_count": 39,
   "source": [
    "data.head(2)"
   ],
   "outputs": [
    {
     "output_type": "execute_result",
     "data": {
      "text/html": [
       "<div>\n",
       "<style scoped>\n",
       "    .dataframe tbody tr th:only-of-type {\n",
       "        vertical-align: middle;\n",
       "    }\n",
       "\n",
       "    .dataframe tbody tr th {\n",
       "        vertical-align: top;\n",
       "    }\n",
       "\n",
       "    .dataframe thead th {\n",
       "        text-align: right;\n",
       "    }\n",
       "</style>\n",
       "<table border=\"1\" class=\"dataframe\">\n",
       "  <thead>\n",
       "    <tr style=\"text-align: right;\">\n",
       "      <th></th>\n",
       "      <th>0</th>\n",
       "      <th>1</th>\n",
       "      <th>2</th>\n",
       "      <th>3</th>\n",
       "      <th>4</th>\n",
       "      <th>5</th>\n",
       "      <th>6</th>\n",
       "      <th>7</th>\n",
       "      <th>8</th>\n",
       "      <th>9</th>\n",
       "      <th>...</th>\n",
       "      <th>15</th>\n",
       "      <th>16</th>\n",
       "      <th>17</th>\n",
       "      <th>18</th>\n",
       "      <th>19</th>\n",
       "      <th>20</th>\n",
       "      <th>21</th>\n",
       "      <th>22</th>\n",
       "      <th>23</th>\n",
       "      <th>24</th>\n",
       "    </tr>\n",
       "  </thead>\n",
       "  <tbody>\n",
       "    <tr>\n",
       "      <th>0</th>\n",
       "      <td>b Georgia  downs two Russian warplanes  as cou...</td>\n",
       "      <td>b BREAKING  Musharraf to be impeached</td>\n",
       "      <td>b Russia Today  Columns of troops roll into So...</td>\n",
       "      <td>b Russian tanks are moving towards the capital...</td>\n",
       "      <td>b Afghan children raped with  impunity   U N  ...</td>\n",
       "      <td>b     Russian tanks have entered South Ossetia...</td>\n",
       "      <td>b Breaking  Georgia invades South Ossetia  Rus...</td>\n",
       "      <td>b The  enemy combatent  trials are nothing but...</td>\n",
       "      <td>b Georgian troops retreat from S  Osettain cap...</td>\n",
       "      <td>b Did the U S  Prep Georgia for War with Russia</td>\n",
       "      <td>...</td>\n",
       "      <td>b Georgia Invades South Ossetia   if Russia ge...</td>\n",
       "      <td>b Al Qaeda Faces Islamist Backlash</td>\n",
       "      <td>b Condoleezza Rice   The US would not act to p...</td>\n",
       "      <td>b This is a busy day   The European Union has ...</td>\n",
       "      <td>b Georgia will withdraw       soldiers from Ir...</td>\n",
       "      <td>b Why the Pentagon Thinks Attacking Iran is a ...</td>\n",
       "      <td>b Caucasus in crisis  Georgia invades South Os...</td>\n",
       "      <td>b Indian shoe manufactory    And again in a se...</td>\n",
       "      <td>b Visitors Suffering from Mental Illnesses Ban...</td>\n",
       "      <td>b No Help for Mexico s Kidnapping Surge</td>\n",
       "    </tr>\n",
       "    <tr>\n",
       "      <th>1</th>\n",
       "      <td>b Why wont America and Nato help us  If they w...</td>\n",
       "      <td>b Bush puts foot down on Georgian conflict</td>\n",
       "      <td>b Jewish Georgian minister  Thanks to Israeli ...</td>\n",
       "      <td>b Georgian army flees in disarray as Russians ...</td>\n",
       "      <td>b Olympic opening ceremony fireworks  faked</td>\n",
       "      <td>b What were the Mossad with fraudulent New Zea...</td>\n",
       "      <td>b Russia angered by Israeli military sale to G...</td>\n",
       "      <td>b An American citizen living in S Ossetia blam...</td>\n",
       "      <td>b Welcome To World War IV  Now In High Definit...</td>\n",
       "      <td>b Georgia s move  a mistake of monumental prop...</td>\n",
       "      <td>...</td>\n",
       "      <td>b Israel and the US behind the Georgian aggres...</td>\n",
       "      <td>b  Do not believe TV  neither Russian nor Geor...</td>\n",
       "      <td>b Riots are still going on in Montreal  Canada...</td>\n",
       "      <td>b China to overtake US as largest manufacturer</td>\n",
       "      <td>b War in South Ossetia  PICS</td>\n",
       "      <td>b Israeli Physicians Group Condemns State Tort...</td>\n",
       "      <td>b  Russia has just beaten the United States ov...</td>\n",
       "      <td>b Perhaps  the  question about the Georgia   R...</td>\n",
       "      <td>b Russia is so much better at war</td>\n",
       "      <td>b So this is what it s come to  trading sex fo...</td>\n",
       "    </tr>\n",
       "  </tbody>\n",
       "</table>\n",
       "<p>2 rows × 25 columns</p>\n",
       "</div>"
      ],
      "text/plain": [
       "                                                  0   \\\n",
       "0  b Georgia  downs two Russian warplanes  as cou...   \n",
       "1  b Why wont America and Nato help us  If they w...   \n",
       "\n",
       "                                            1   \\\n",
       "0      b BREAKING  Musharraf to be impeached     \n",
       "1  b Bush puts foot down on Georgian conflict    \n",
       "\n",
       "                                                  2   \\\n",
       "0  b Russia Today  Columns of troops roll into So...   \n",
       "1  b Jewish Georgian minister  Thanks to Israeli ...   \n",
       "\n",
       "                                                  3   \\\n",
       "0  b Russian tanks are moving towards the capital...   \n",
       "1  b Georgian army flees in disarray as Russians ...   \n",
       "\n",
       "                                                  4   \\\n",
       "0  b Afghan children raped with  impunity   U N  ...   \n",
       "1      b Olympic opening ceremony fireworks  faked     \n",
       "\n",
       "                                                  5   \\\n",
       "0  b     Russian tanks have entered South Ossetia...   \n",
       "1  b What were the Mossad with fraudulent New Zea...   \n",
       "\n",
       "                                                  6   \\\n",
       "0  b Breaking  Georgia invades South Ossetia  Rus...   \n",
       "1  b Russia angered by Israeli military sale to G...   \n",
       "\n",
       "                                                  7   \\\n",
       "0  b The  enemy combatent  trials are nothing but...   \n",
       "1  b An American citizen living in S Ossetia blam...   \n",
       "\n",
       "                                                  8   \\\n",
       "0  b Georgian troops retreat from S  Osettain cap...   \n",
       "1  b Welcome To World War IV  Now In High Definit...   \n",
       "\n",
       "                                                  9   ...  \\\n",
       "0  b Did the U S  Prep Georgia for War with Russia    ...   \n",
       "1  b Georgia s move  a mistake of monumental prop...  ...   \n",
       "\n",
       "                                                  15  \\\n",
       "0  b Georgia Invades South Ossetia   if Russia ge...   \n",
       "1  b Israel and the US behind the Georgian aggres...   \n",
       "\n",
       "                                                  16  \\\n",
       "0                b Al Qaeda Faces Islamist Backlash    \n",
       "1  b  Do not believe TV  neither Russian nor Geor...   \n",
       "\n",
       "                                                  17  \\\n",
       "0  b Condoleezza Rice   The US would not act to p...   \n",
       "1  b Riots are still going on in Montreal  Canada...   \n",
       "\n",
       "                                                  18  \\\n",
       "0  b This is a busy day   The European Union has ...   \n",
       "1    b China to overtake US as largest manufacturer    \n",
       "\n",
       "                                                  19  \\\n",
       "0  b Georgia will withdraw       soldiers from Ir...   \n",
       "1                     b War in South Ossetia  PICS     \n",
       "\n",
       "                                                  20  \\\n",
       "0  b Why the Pentagon Thinks Attacking Iran is a ...   \n",
       "1  b Israeli Physicians Group Condemns State Tort...   \n",
       "\n",
       "                                                  21  \\\n",
       "0  b Caucasus in crisis  Georgia invades South Os...   \n",
       "1  b  Russia has just beaten the United States ov...   \n",
       "\n",
       "                                                  22  \\\n",
       "0  b Indian shoe manufactory    And again in a se...   \n",
       "1  b Perhaps  the  question about the Georgia   R...   \n",
       "\n",
       "                                                  23  \\\n",
       "0  b Visitors Suffering from Mental Illnesses Ban...   \n",
       "1                 b Russia is so much better at war    \n",
       "\n",
       "                                                  24  \n",
       "0           b No Help for Mexico s Kidnapping Surge   \n",
       "1  b So this is what it s come to  trading sex fo...  \n",
       "\n",
       "[2 rows x 25 columns]"
      ]
     },
     "metadata": {},
     "execution_count": 39
    }
   ],
   "metadata": {}
  },
  {
   "cell_type": "code",
   "execution_count": 40,
   "source": [
    "for i in range(25):\n",
    "    data[i]=data[i].str.lower()"
   ],
   "outputs": [],
   "metadata": {}
  },
  {
   "cell_type": "code",
   "execution_count": 41,
   "source": [
    "data.fillna('',inplace=True)"
   ],
   "outputs": [],
   "metadata": {}
  },
  {
   "cell_type": "code",
   "execution_count": 42,
   "source": [
    "headlines=[]\n",
    "for row in range(len(data)):\n",
    "    headlines.append(' '.join(str(x) for x in data.iloc[row,0:25]))\n"
   ],
   "outputs": [],
   "metadata": {}
  },
  {
   "cell_type": "code",
   "execution_count": 43,
   "source": [
    "# data.drop(data.columns,axis=1,inplace=True)\n",
    "data['news']=headlines\n",
    "# data"
   ],
   "outputs": [],
   "metadata": {}
  },
  {
   "cell_type": "code",
   "execution_count": 44,
   "source": [
    "import nltk\n",
    "from nltk.corpus import stopwords\n",
    "from nltk.stem import WordNetLemmatizer"
   ],
   "outputs": [],
   "metadata": {}
  },
  {
   "cell_type": "code",
   "execution_count": 45,
   "source": [
    "lm=WordNetLemmatizer()"
   ],
   "outputs": [],
   "metadata": {}
  },
  {
   "cell_type": "code",
   "execution_count": 46,
   "source": [
    "for i in range(len(data)):\n",
    "    news=data['news'][i]\n",
    "    news=[lm.lemmatize(word) for word in nltk.word_tokenize(news) if lm.lemmatize(word) not in stopwords.words(\"english\")]\n",
    "    data['news'][i]=' '.join(news)"
   ],
   "outputs": [],
   "metadata": {}
  },
  {
   "cell_type": "code",
   "execution_count": 47,
   "source": [
    "data['news'][0]"
   ],
   "outputs": [
    {
     "output_type": "execute_result",
     "data": {
      "text/plain": [
       "'b georgia two russian warplane country move brink war b breaking musharraf impeached b russia today column troop roll south ossetia footage fighting youtube b russian tank moving towards capital south ossetia ha reportedly completely destroyed georgian artillery fire b afghan child raped impunity u n official say sick three year old wa raped nothing b russian tank entered south ossetia whilst georgia shoot two russian jet b breaking georgia invades south ossetia russia warned would intervene side b enemy combatent trial nothing sham salim haman ha sentenced year kept longer anyway feel like b georgian troop retreat osettain capital presumably leaving several hundred people killed video b u prep georgia war russia b rice give green light israel attack iran say u ha veto israeli military ops b announcing class action lawsuit behalf american public fbi b russia georgia war nyt top story opening ceremony olympics fucking disgrace yet proof decline journalism b china tell bush stay country affair b world war iii start today b georgia invades south ossetia russia get involved nato absorb georgia unleash full scale war b al qaeda face islamist backlash b condoleezza rice u would act prevent israeli strike iran israeli defense minister ehud barak israel prepared uncompromising victory case military hostility b busy day european union ha approved new sanction iran protest nuclear programme b georgia withdraw soldier iraq help fight russian force georgia breakaway region south ossetia b pentagon think attacking iran bad idea u news amp world report b caucasus crisis georgia invades south ossetia b indian shoe manufactory series like work b visitor suffering mental illness banned olympics b help mexico kidnapping surge'"
      ]
     },
     "metadata": {},
     "execution_count": 47
    }
   ],
   "metadata": {}
  },
  {
   "cell_type": "code",
   "execution_count": 48,
   "source": [
    "from sklearn.feature_extraction.text import TfidfVectorizer\n",
    "from sklearn.feature_extraction.text import CountVectorizer\n",
    "from sklearn.ensemble import RandomForestClassifier"
   ],
   "outputs": [],
   "metadata": {}
  },
  {
   "cell_type": "code",
   "execution_count": 49,
   "source": [
    "type(data['news'])"
   ],
   "outputs": [
    {
     "output_type": "execute_result",
     "data": {
      "text/plain": [
       "pandas.core.series.Series"
      ]
     },
     "metadata": {},
     "execution_count": 49
    }
   ],
   "metadata": {}
  },
  {
   "cell_type": "code",
   "execution_count": 20,
   "source": [
    "tv=TfidfVectorizer(ngram_range=(1,2))\n",
    "X=tv.fit_transform(data['news']).toarray()"
   ],
   "outputs": [],
   "metadata": {}
  },
  {
   "cell_type": "code",
   "execution_count": 486,
   "source": [
    "rc=RandomForestClassifier(n_estimators=200,criterion='entropy')\n",
    "rc.fit(X,train['Label'])"
   ],
   "outputs": [
    {
     "output_type": "execute_result",
     "data": {
      "text/plain": [
       "RandomForestClassifier(criterion='entropy', n_estimators=200)"
      ]
     },
     "metadata": {},
     "execution_count": 486
    }
   ],
   "metadata": {}
  },
  {
   "cell_type": "code",
   "execution_count": 487,
   "source": [
    "test_transform=[]\n",
    "for i in range(len(test)):\n",
    "    test_transform.append(' '.join(str(x) for x in test.iloc[i,2:27]))\n",
    "    news=test_transform[i]\n",
    "    news=[lm.lemmatize(word) for word in nltk.word_tokenize(news) if lm.lemmatize(word) not in stopwords.words(\"english\")]\n",
    "    test_transform[i]=' '.join(news)\n",
    "\n",
    "test_data=tv.transform(test_transform)\n",
    "pred=rc.predict(test_data)"
   ],
   "outputs": [],
   "metadata": {}
  },
  {
   "cell_type": "code",
   "execution_count": 492,
   "source": [
    "from sklearn.metrics import classification_report,confusion_matrix,accuracy_score"
   ],
   "outputs": [],
   "metadata": {}
  },
  {
   "cell_type": "code",
   "execution_count": 493,
   "source": [
    "print(accuracy_score(test['Label'],pred))\n",
    "print(classification_report(test['Label'],pred))\n",
    "print(confusion_matrix(test['Label'],pred))"
   ],
   "outputs": [
    {
     "output_type": "stream",
     "name": "stdout",
     "text": [
      "0.8386243386243386\n",
      "              precision    recall  f1-score   support\n",
      "\n",
      "           0       0.86      0.80      0.83       186\n",
      "           1       0.82      0.88      0.85       192\n",
      "\n",
      "    accuracy                           0.84       378\n",
      "   macro avg       0.84      0.84      0.84       378\n",
      "weighted avg       0.84      0.84      0.84       378\n",
      "\n",
      "[[149  37]\n",
      " [ 24 168]]\n"
     ]
    }
   ],
   "metadata": {}
  },
  {
   "cell_type": "markdown",
   "source": [
    "Countvec gave better accuracy"
   ],
   "metadata": {}
  },
  {
   "cell_type": "code",
   "execution_count": 22,
   "source": [
    "import pickle\n",
    "pickle.dump(rc,open('model.pkl','wb'))\n",
    "pickle.dump(tv,open('tfvect.pkl','wb'))"
   ],
   "outputs": [],
   "metadata": {}
  }
 ],
 "metadata": {
  "orig_nbformat": 4,
  "language_info": {
   "name": "python",
   "version": "3.8.10",
   "mimetype": "text/x-python",
   "codemirror_mode": {
    "name": "ipython",
    "version": 3
   },
   "pygments_lexer": "ipython3",
   "nbconvert_exporter": "python",
   "file_extension": ".py"
  },
  "kernelspec": {
   "name": "python3",
   "display_name": "Python 3.8.10 64-bit"
  },
  "interpreter": {
   "hash": "916dbcbb3f70747c44a77c7bcd40155683ae19c65e1c03b4aa3499c5328201f1"
  }
 },
 "nbformat": 4,
 "nbformat_minor": 2
}